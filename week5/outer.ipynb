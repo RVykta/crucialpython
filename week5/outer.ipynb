{
 "metadata": {
  "name": ""
 },
 "nbformat": 3,
 "nbformat_minor": 0,
 "worksheets": [
  {
   "cells": [
    {
     "cell_type": "markdown",
     "metadata": {},
     "source": [
      "# CR\u00dcCIAL P\u0178THON Week 5: Outers"
     ]
    },
    {
     "cell_type": "code",
     "collapsed": false,
     "input": [
      "%pylab inline\n",
      "\n",
      "# We'll be using some pretty-printing later on\n",
      "from pprint import pprint"
     ],
     "language": "python",
     "metadata": {},
     "outputs": [
      {
       "output_type": "stream",
       "stream": "stdout",
       "text": [
        "Populating the interactive namespace from numpy and matplotlib\n"
       ]
      }
     ],
     "prompt_number": 1
    },
    {
     "cell_type": "code",
     "collapsed": false,
     "input": [
      "from IPython.core.display import Image \n",
      "Image(url='http://labrosa.ee.columbia.edu/crucialpython/logo.png', width=600) "
     ],
     "language": "python",
     "metadata": {},
     "outputs": [
      {
       "html": [
        "<img src=\"http://labrosa.ee.columbia.edu/crucialpython/logo.png\" width=\"600\"/>"
       ],
       "metadata": {},
       "output_type": "pyout",
       "prompt_number": 2,
       "text": [
        "<IPython.core.display.Image at 0x4540950>"
       ]
      }
     ],
     "prompt_number": 2
    },
    {
     "cell_type": "markdown",
     "metadata": {},
     "source": [
      "### Casting ye out, tight loops!\n",
      "\n",
      "High-level programs sometimes have computational bottleneck at a tight loop, or even nested loops.  This comes up frequently when comparing two sets of objects, say to build a similarity matrix or do collision detection.\n",
      "\n",
      "A common way to eliminate these bottlenecks is to implement the critical portion in a low-level language, such as C, so that the python interpreter doesn't have to work as hard.  Today we'll look at NumPy's `outer` functionality, which when used correctly, can replace many tight-loop patterns that occur in practice.\n",
      "\n",
      "## Example: point range search\n",
      "\n",
      "Say we have two lists of numbers `a` and `b`, and we wish to find all the pairs `a[i], b[j]` such that `a[i]` is within some distance `r` of `b[i]`.  That is, find all $i$ and $j$ such that\n",
      "\n",
      "$$\n",
      "    |a_i - b_i| \\leq r\n",
      "$$\n",
      "\n",
      "This can be done trivially by nested iteration, as seen below."
     ]
    },
    {
     "cell_type": "code",
     "collapsed": false,
     "input": [
      "# Let's make a function to generate some example data\n",
      "def make_point_data(n, m):\n",
      "    a = np.arange(-n/2.0, 1 + n / 2.0)\n",
      "    b = np.random.randn(m)\n",
      "\n",
      "    # For convenience, let's sort b\n",
      "    b = np.sort(b)\n",
      "\n",
      "    return a, b"
     ],
     "language": "python",
     "metadata": {},
     "outputs": [],
     "prompt_number": 3
    },
    {
     "cell_type": "code",
     "collapsed": false,
     "input": [
      "# Generate and display the example data\n",
      "a, b = make_point_data(5, 10)\n",
      "# And a threshold\n",
      "r = 0.25\n",
      "\n",
      "print 'a: ', a\n",
      "print 'b: ', b\n",
      "print 'r: ', r"
     ],
     "language": "python",
     "metadata": {},
     "outputs": [
      {
       "output_type": "stream",
       "stream": "stdout",
       "text": [
        "a:  [-2.5 -1.5 -0.5  0.5  1.5  2.5]\n",
        "b:  [-0.96770208 -0.85496765 -0.52586741 -0.35481086 -0.21224813  0.0086099\n",
        "  0.06840212  0.12246662  0.14855468  0.21998685]\n",
        "r:  0.25\n"
       ]
      }
     ],
     "prompt_number": 4
    },
    {
     "cell_type": "code",
     "collapsed": false,
     "input": [
      "# Build a list and iterate over all pairs\n",
      "def find_similar_points(a, b, r):\n",
      "    '''Given two lists of numbers a and b, and a threshold r,\n",
      "       returns a matrix `hits` such that:\n",
      "       \n",
      "       |a[ hits[i, 0] ] - b[ hits[j, 1] ]| <= r\n",
      "       \n",
      "    '''\n",
      "    \n",
      "    hits = []\n",
      "    for i, ai in enumerate(a):\n",
      "        for j, bj in enumerate(b):\n",
      "            if np.abs(ai - bj) <= r:\n",
      "                hits.append( (i, j) )\n",
      "                \n",
      "    # Return indices in ndarray format\n",
      "    return np.asarray(hits)"
     ],
     "language": "python",
     "metadata": {},
     "outputs": [],
     "prompt_number": 5
    },
    {
     "cell_type": "code",
     "collapsed": false,
     "input": [
      "# What'd we get?\n",
      "print 'Hits: '\n",
      "print find_similar_points(a, b, r)"
     ],
     "language": "python",
     "metadata": {},
     "outputs": [
      {
       "output_type": "stream",
       "stream": "stdout",
       "text": [
        "Hits: \n",
        "[[2 2]\n",
        " [2 3]]\n"
       ]
      }
     ],
     "prompt_number": 6
    },
    {
     "cell_type": "markdown",
     "metadata": {},
     "source": [
      "---\n",
      "\n",
      "# Example 2: interval intersection\n",
      "Let's consider a slightly more involved example.  Say we have a set of real line intervals $\\{(s_i, t_i)\\}$ where each ordered pair denotes the start and end of the interval.\n",
      "\n",
      "One quantity of interest is the length of intersection between any two intervals:\n",
      "\n",
      "$$\n",
      "    c(i, j) = |(s_i, t_i) \\cap (s_j, t_j)| = \\max\\left(0, \\min(t_i, t_j) - \\max(s_i, s_j) \\right)\n",
      "$$\n",
      "\n",
      "Again, this can be computed by nested iteration, as seen below."
     ]
    },
    {
     "cell_type": "code",
     "collapsed": false,
     "input": [
      "def find_interval_overlap(S, T):\n",
      "    '''S and T are vectors that encode intervals (S[i], T[i])\n",
      "    \n",
      "    Returns an n-by-n matrix C such that C[i, j] is the length of the overlap between intervals i and j.\n",
      "    '''\n",
      "    \n",
      "    # Get the shape\n",
      "    n = S.shape[0]\n",
      "    \n",
      "    # Build an output matrix.\n",
      "    C = np.zeros( (n, n) )\n",
      "    \n",
      "    for i in range(n):\n",
      "        for j in range(n):\n",
      "            C[i, j] = max(0, min(T[i], T[j]) - max(S[i], S[j]))\n",
      "            \n",
      "    return C"
     ],
     "language": "python",
     "metadata": {},
     "outputs": [],
     "prompt_number": 7
    },
    {
     "cell_type": "code",
     "collapsed": false,
     "input": [
      "def make_interval_data(n):\n",
      "    # Generate random start times\n",
      "    S = np.random.randn(n)\n",
      "    \n",
      "    # Sort it, for convenience\n",
      "    S = np.sort(S)\n",
      "\n",
      "    # Add a random positive length to each one\n",
      "    T = S + np.abs(np.random.randn(n))\n",
      "    \n",
      "    return S, T"
     ],
     "language": "python",
     "metadata": {},
     "outputs": [],
     "prompt_number": 8
    },
    {
     "cell_type": "code",
     "collapsed": false,
     "input": [
      "# Let's make up some test data\n",
      "S, T = make_interval_data(5)"
     ],
     "language": "python",
     "metadata": {},
     "outputs": [],
     "prompt_number": 9
    },
    {
     "cell_type": "code",
     "collapsed": false,
     "input": [
      "# What does it look like?\n",
      "pprint( zip(S, T) )"
     ],
     "language": "python",
     "metadata": {},
     "outputs": [
      {
       "output_type": "stream",
       "stream": "stdout",
       "text": [
        "[(-2.1384553165790186, -2.1213385171761487),\n",
        " (-1.264403537579124, -0.37531374425424291),\n",
        " (0.23311220397899829, 0.36254346147298777),\n",
        " (1.1991528535298552, 1.342639887658069),\n",
        " (1.3710210412261252, 1.9383758355484895)]\n"
       ]
      }
     ],
     "prompt_number": 10
    },
    {
     "cell_type": "code",
     "collapsed": false,
     "input": [
      "print find_interval_overlap(S, T)"
     ],
     "language": "python",
     "metadata": {},
     "outputs": [
      {
       "output_type": "stream",
       "stream": "stdout",
       "text": [
        "[[ 0.0171168   0.          0.          0.          0.        ]\n",
        " [ 0.          0.88908979  0.          0.          0.        ]\n",
        " [ 0.          0.          0.12943126  0.          0.        ]\n",
        " [ 0.          0.          0.          0.14348703  0.        ]\n",
        " [ 0.          0.          0.          0.          0.56735479]]\n"
       ]
      }
     ],
     "prompt_number": 11
    },
    {
     "cell_type": "markdown",
     "metadata": {},
     "source": [
      "---\n",
      "In both of the examples above, we're doing an all-pairs comparison between two sets of objects.\n",
      "\n",
      "While conceptually simple, the nested iteration approach leads to somewhat cumbersome code, which can also be computationally inefficient.\n",
      "\n",
      "Fortunately, NumPy provides some tools to help us simplify and vectorize this kind of pairwise operation.  The secret ingredient is called [`outer`](http://docs.scipy.org/doc/numpy/reference/generated/numpy.ufunc.outer.html#numpy.ufunc.outer), and is a property of NumPy's unversal function [ufunc](http://docs.scipy.org/doc/numpy/reference/ufuncs.html) abstraction.\n",
      "\n",
      "Quoth the manual,\n",
      "\n",
      "> Universal functions (ufunc)\n",
      ">\n",
      "> A universal function (or ufunc for short) is a function that operates on ndarrays in an element-by-element fashion, supporting array  broadcasting, type casting, and several other standard features. That is, a ufunc is a \u201cvectorized\u201d wrapper for a function that takes a fixed number of scalar inputs and produces a fixed number of scalar outputs.\n",
      "\n",
      "A ufunc `f(a, b)` implement the `outer` method, which returns a matrix `X[i, j] = f(a[i], b[j])`.  The benefit of this approach is that ufuncs are typically implemented in C, and are often much more efficient in practice than implementing the equivalent loop in python.\n",
      "\n",
      "Some examples of potentially interesting ufuncs include:\n",
      "\n",
      "  * add, subtract\n",
      "  * multiply, divide\n",
      "  * less, less_equal\n",
      "  * bitwise_and, bitwise_or,\n",
      "  * etc.\n",
      "\n",
      "A list of [available ufuncs](http://docs.scipy.org/doc/numpy/reference/ufuncs.html#available-ufuncs) can be found in the `numpy` documentation.\n",
      "\n",
      "---"
     ]
    },
    {
     "cell_type": "code",
     "collapsed": false,
     "input": [
      "# Here's how to write our similar_points function using the subtraction ufunc\n",
      "def fast_similar_points(a, b, r):\n",
      "    \n",
      "    # subtract.outer builds a matrix of a[i] - b[j]\n",
      "    # abs computes the absolute value\n",
      "    difference = np.abs(np.subtract.outer(a, b))\n",
      "    \n",
      "    # <= r does a pointwise comparison against the threshold\n",
      "    # argwhere finds all indices (i, j) such that hits[i, j] == True\n",
      "    return np.argwhere(difference <= r)"
     ],
     "language": "python",
     "metadata": {},
     "outputs": [],
     "prompt_number": 12
    },
    {
     "cell_type": "code",
     "collapsed": false,
     "input": [
      "# Make some more test data, 5 points in a and 10 in b\n",
      "a, b = make_point_data(5, 10)"
     ],
     "language": "python",
     "metadata": {},
     "outputs": [],
     "prompt_number": 13
    },
    {
     "cell_type": "code",
     "collapsed": false,
     "input": [
      "print a\n",
      "print b\n",
      "print r"
     ],
     "language": "python",
     "metadata": {},
     "outputs": [
      {
       "output_type": "stream",
       "stream": "stdout",
       "text": [
        "[-2.5 -1.5 -0.5  0.5  1.5  2.5]\n",
        "[-1.10579974 -0.29662875 -0.20894082  0.23546074  0.29943203  0.35920302\n",
        "  0.63253872  0.89584055  1.05731709  1.62094194]\n",
        "0.25\n"
       ]
      }
     ],
     "prompt_number": 14
    },
    {
     "cell_type": "code",
     "collapsed": false,
     "input": [
      "# For comparison purposes, our previous implementation\n",
      "print find_similar_points(a, b, r)"
     ],
     "language": "python",
     "metadata": {},
     "outputs": [
      {
       "output_type": "stream",
       "stream": "stdout",
       "text": [
        "[[2 1]\n",
        " [3 4]\n",
        " [3 5]\n",
        " [3 6]\n",
        " [4 9]]\n"
       ]
      }
     ],
     "prompt_number": 15
    },
    {
     "cell_type": "code",
     "collapsed": false,
     "input": [
      "# And the new one\n",
      "print fast_similar_points(a, b, r)"
     ],
     "language": "python",
     "metadata": {},
     "outputs": [
      {
       "output_type": "stream",
       "stream": "stdout",
       "text": [
        "[[2 1]\n",
        " [3 4]\n",
        " [3 5]\n",
        " [3 6]\n",
        " [4 9]]\n"
       ]
      }
     ],
     "prompt_number": 16
    },
    {
     "cell_type": "code",
     "collapsed": false,
     "input": [
      "# Timing benchmark\n",
      "%timeit find_similar_points(a, b, r)"
     ],
     "language": "python",
     "metadata": {},
     "outputs": [
      {
       "output_type": "stream",
       "stream": "stdout",
       "text": [
        "10000 loops, best of 3: 145 \u00b5s per loop\n"
       ]
      }
     ],
     "prompt_number": 17
    },
    {
     "cell_type": "code",
     "collapsed": false,
     "input": [
      "%timeit fast_similar_points(a, b, r)"
     ],
     "language": "python",
     "metadata": {},
     "outputs": [
      {
       "output_type": "stream",
       "stream": "stdout",
       "text": [
        "10000 loops, best of 3: 31 \u00b5s per loop\n"
       ]
      }
     ],
     "prompt_number": 18
    },
    {
     "cell_type": "code",
     "collapsed": false,
     "input": [
      "# How does it scale? Let's increase the size of our data\n",
      "a, b = make_point_data(500, 1000)"
     ],
     "language": "python",
     "metadata": {},
     "outputs": [],
     "prompt_number": 19
    },
    {
     "cell_type": "code",
     "collapsed": false,
     "input": [
      "%timeit find_similar_points(a, b, r)"
     ],
     "language": "python",
     "metadata": {},
     "outputs": [
      {
       "output_type": "stream",
       "stream": "stdout",
       "text": [
        "1 loops, best of 3: 2.35 s per loop\n"
       ]
      }
     ],
     "prompt_number": 20
    },
    {
     "cell_type": "code",
     "collapsed": false,
     "input": [
      "%timeit fast_similar_points(a, b, r)"
     ],
     "language": "python",
     "metadata": {},
     "outputs": [
      {
       "output_type": "stream",
       "stream": "stdout",
       "text": [
        "100 loops, best of 3: 7.31 ms per loop\n"
       ]
      }
     ],
     "prompt_number": 21
    },
    {
     "cell_type": "code",
     "collapsed": false,
     "input": [
      "# Similarly, our interval-overlap calculator can be simplified by using outers to compute the intermediate steps\n",
      "def fast_interval_overlap(S, T):\n",
      "    \n",
      "    # For each pair of intervals, find the later start: max(S[i], S[j])\n",
      "    max_start = np.maximum.outer(S, S)\n",
      "    \n",
      "    # And the earlier end: min(T[i], T[j])\n",
      "    min_end   = np.minimum.outer(T, T)\n",
      "    \n",
      "    # Subtract min_end[i, j] - max_start[i, j]\n",
      "    # If the result is negative, then the intersection is 0\n",
      "    return np.maximum(0, min_end - max_start)"
     ],
     "language": "python",
     "metadata": {},
     "outputs": [],
     "prompt_number": 22
    },
    {
     "cell_type": "code",
     "collapsed": false,
     "input": [
      "S, T = make_interval_data(5)\n",
      "pprint( zip(S, T) )"
     ],
     "language": "python",
     "metadata": {},
     "outputs": [
      {
       "output_type": "stream",
       "stream": "stdout",
       "text": [
        "[(-0.8954603782536591, -0.421104478345811),\n",
        " (-0.66946743342806536, -0.0056007367574737454),\n",
        " (-0.53075619174061039, 0.2034881645788601),\n",
        " (0.48630766876973047, 2.1472703559290185),\n",
        " (1.3796805356374024, 3.1913465560545644)]\n"
       ]
      }
     ],
     "prompt_number": 23
    },
    {
     "cell_type": "code",
     "collapsed": false,
     "input": [
      "print fast_interval_overlap(S, T)"
     ],
     "language": "python",
     "metadata": {},
     "outputs": [
      {
       "output_type": "stream",
       "stream": "stdout",
       "text": [
        "[[ 0.4743559   0.24836296  0.10965171  0.          0.        ]\n",
        " [ 0.24836296  0.6638667   0.52515545  0.          0.        ]\n",
        " [ 0.10965171  0.52515545  0.73424436  0.          0.        ]\n",
        " [ 0.          0.          0.          1.66096269  0.76758982]\n",
        " [ 0.          0.          0.          0.76758982  1.81166602]]\n"
       ]
      }
     ],
     "prompt_number": 24
    },
    {
     "cell_type": "code",
     "collapsed": false,
     "input": [
      "%timeit find_interval_overlap(S, T)"
     ],
     "language": "python",
     "metadata": {},
     "outputs": [
      {
       "output_type": "stream",
       "stream": "stdout",
       "text": [
        "10000 loops, best of 3: 149 \u00b5s per loop\n"
       ]
      }
     ],
     "prompt_number": 25
    },
    {
     "cell_type": "code",
     "collapsed": false,
     "input": [
      "%timeit fast_interval_overlap(S, T)"
     ],
     "language": "python",
     "metadata": {},
     "outputs": [
      {
       "output_type": "stream",
       "stream": "stdout",
       "text": [
        "10000 loops, best of 3: 37.5 \u00b5s per loop\n"
       ]
      }
     ],
     "prompt_number": 26
    },
    {
     "cell_type": "code",
     "collapsed": false,
     "input": [
      "# Scaling up?\n",
      "S, T = make_interval_data(1000)"
     ],
     "language": "python",
     "metadata": {},
     "outputs": [],
     "prompt_number": 27
    },
    {
     "cell_type": "code",
     "collapsed": false,
     "input": [
      "%timeit find_interval_overlap(S, T)"
     ],
     "language": "python",
     "metadata": {},
     "outputs": [
      {
       "output_type": "stream",
       "stream": "stdout",
       "text": [
        "1 loops, best of 3: 5.66 s per loop\n"
       ]
      }
     ],
     "prompt_number": 28
    },
    {
     "cell_type": "code",
     "collapsed": false,
     "input": [
      "%timeit fast_interval_overlap(S, T)"
     ],
     "language": "python",
     "metadata": {},
     "outputs": [
      {
       "output_type": "stream",
       "stream": "stdout",
       "text": [
        "10 loops, best of 3: 58.6 ms per loop\n"
       ]
      }
     ],
     "prompt_number": 29
    },
    {
     "cell_type": "markdown",
     "metadata": {},
     "source": [
      "---\n",
      "# Note:\n",
      "\n",
      "Outers are great for relatively small comparison sets and simple operations.  However, they require $\\Theta(nm)$ storage for an $n$-by-$m$ comparison, which can quickly eat up memory if you're not careful.  \n",
      "\n",
      "For many applications, though, the speedup due to vectorization is worth the increased memory complexity."
     ]
    }
   ],
   "metadata": {}
  }
 ]
}